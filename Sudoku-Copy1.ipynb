{
 "cells": [
  {
   "cell_type": "markdown",
   "metadata": {
    "collapsed": false
   },
   "source": [
    "# Sudoku Solver\n",
    "##### by Irfaan Domun\n",
    "We modelise this problem as a binary one as we try to find the  combinaison sequence on the board that fit the contraint."
   ]
  },
  {
   "cell_type": "markdown",
   "metadata": {},
   "source": [
    "Import the pulp librairie to solve linear problem."
   ]
  },
  {
   "cell_type": "code",
   "execution_count": 1,
   "metadata": {
    "collapsed": true
   },
   "outputs": [],
   "source": [
    "import pulp\n",
    "import math"
   ]
  },
  {
   "cell_type": "markdown",
   "metadata": {},
   "source": [
    "Create the sequence that rule the sudoku and fill the possible vals, rows and cols in it."
   ]
  },
  {
   "cell_type": "code",
   "execution_count": 2,
   "metadata": {
    "collapsed": true
   },
   "outputs": [],
   "source": [
    "Sequence = [\"1\", \"2\", \"3\", \"4\", \"5\", \"6\", \"7\", \"8\", \"9\"]\n",
    "\n",
    "Vals = Sequence\n",
    "Rows = Sequence\n",
    "Cols = Sequence"
   ]
  },
  {
   "cell_type": "markdown",
   "metadata": {},
   "source": [
    "Create the grid of the sudoku"
   ]
  },
  {
   "cell_type": "code",
   "execution_count": 3,
   "metadata": {
    "collapsed": false
   },
   "outputs": [],
   "source": [
    "square_number = int(math.sqrt(len(Sequence)))\n",
    "Boxes =[]\n",
    "for i in range(square_number):\n",
    "    for j in range(square_number):\n",
    "        Boxes += [[(Rows[square_number*i+k]\\\n",
    "                    ,Cols[square_number*j+l]) \\\n",
    "                   for k in range(square_number) \\\n",
    "                   for l in range(square_number)]]\n"
   ]
  },
  {
   "cell_type": "markdown",
   "metadata": {},
   "source": [
    "As we need equality, we can either maximize or minimize the objective function, we chose arbitrary minimize it."
   ]
  },
  {
   "cell_type": "code",
   "execution_count": 4,
   "metadata": {
    "collapsed": false
   },
   "outputs": [],
   "source": [
    "prob = pulp.LpProblem(\"Sudoku Problem\", pulp.LpMinimize)"
   ]
  },
  {
   "cell_type": "markdown",
   "metadata": {},
   "source": [
    "Create val\\*row*cols binary variable for the problem"
   ]
  },
  {
   "cell_type": "code",
   "execution_count": 5,
   "metadata": {
    "collapsed": false
   },
   "outputs": [],
   "source": [
    "choices = pulp.LpVariable.dicts(\"Choice\",(Vals,Rows,Cols),\\\n",
    "                                0,1,pulp.LpInteger)"
   ]
  },
  {
   "cell_type": "markdown",
   "metadata": {},
   "source": [
    "The cost function is not that important as what matter to us is the binary variables, so we initialise it at 0 arbitrarly."
   ]
  },
  {
   "cell_type": "code",
   "execution_count": 6,
   "metadata": {
    "collapsed": true
   },
   "outputs": [],
   "source": [
    "prob += 0"
   ]
  },
  {
   "cell_type": "markdown",
   "metadata": {},
   "source": [
    "We constraint that only one value can be enter in a square."
   ]
  },
  {
   "cell_type": "code",
   "execution_count": 7,
   "metadata": {
    "collapsed": false
   },
   "outputs": [],
   "source": [
    "for r in Rows:\n",
    "    for c in Cols:\n",
    "        prob += pulp.lpSum([choices[v][r][c] for v in Vals]) == 1, \"\""
   ]
  },
  {
   "cell_type": "markdown",
   "metadata": {},
   "source": [
    "We constraint that on line, row, on boxe has only one of the sequence."
   ]
  },
  {
   "cell_type": "code",
   "execution_count": 8,
   "metadata": {
    "collapsed": false
   },
   "outputs": [],
   "source": [
    "for v in Vals:\n",
    "    for r in Rows:\n",
    "        prob += pulp.lpSum([choices[v][r][c] for c in Cols]) == 1,\"\"\n",
    "        \n",
    "    for c in Cols:\n",
    "        prob += pulp.lpSum([choices[v][r][c] for r in Rows]) == 1,\"\"\n",
    "\n",
    "    for b in Boxes:\n",
    "        prob += pulp.lpSum([choices[v][r][c] for (r,c) in b]) == 1,\"\""
   ]
  },
  {
   "cell_type": "markdown",
   "metadata": {},
   "source": [
    "We enter the inital number.\n",
    "choice[n][r][c], n : number ; r : row number ; c : column number"
   ]
  },
  {
   "cell_type": "code",
   "execution_count": 9,
   "metadata": {
    "collapsed": false
   },
   "outputs": [],
   "source": [
    "prob += choices[\"8\"][\"1\"][\"2\"] == 1,\"\"\n",
    "prob += choices[\"9\"][\"1\"][\"4\"] == 1,\"\"\n",
    "prob += choices[\"1\"][\"1\"][\"6\"] == 1,\"\"\n",
    "prob += choices[\"5\"][\"1\"][\"8\"] == 1,\"\"\n",
    "\n",
    "prob += choices[\"2\"][\"2\"][\"3\"] == 1,\"\"\n",
    "prob += choices[\"6\"][\"2\"][\"4\"] == 1,\"\"\n",
    "prob += choices[\"8\"][\"2\"][\"5\"] == 1,\"\"\n",
    "prob += choices[\"7\"][\"2\"][\"6\"] == 1,\"\"\n",
    "prob += choices[\"3\"][\"2\"][\"7\"] == 1,\"\"\n",
    "\n",
    "prob += choices[\"3\"][\"3\"][\"3\"] == 1,\"\"\n",
    "prob += choices[\"6\"][\"3\"][\"7\"] == 1,\"\"\n",
    "\n",
    "\n",
    "prob += choices[\"3\"][\"4\"][\"1\"] == 1,\"\"\n",
    "prob += choices[\"9\"][\"4\"][\"2\"] == 1,\"\"\n",
    "prob += choices[\"6\"][\"4\"][\"8\"] == 1,\"\"\n",
    "prob += choices[\"5\"][\"4\"][\"9\"] == 1,\"\"\n",
    "\n",
    "prob += choices[\"6\"][\"5\"][\"1\"] == 1,\"\"\n",
    "prob += choices[\"4\"][\"5\"][\"4\"] == 1,\"\"\n",
    "prob += choices[\"7\"][\"5\"][\"5\"] == 1,\"\"\n",
    "prob += choices[\"5\"][\"5\"][\"6\"] == 1,\"\"\n",
    "prob += choices[\"3\"][\"5\"][\"9\"] == 1,\"\"\n",
    "\n",
    "prob += choices[\"5\"][\"6\"][\"1\"] == 1,\"\"\n",
    "prob += choices[\"7\"][\"6\"][\"2\"] == 1,\"\"\n",
    "prob += choices[\"8\"][\"6\"][\"8\"] == 1,\"\"\n",
    "prob += choices[\"4\"][\"6\"][\"9\"] == 1,\"\"\n",
    "\n",
    "prob += choices[\"9\"][\"7\"][\"3\"] == 1,\"\"\n",
    "prob += choices[\"8\"][\"7\"][\"7\"] == 1,\"\"\n",
    "\n",
    "prob += choices[\"5\"][\"8\"][\"3\"] == 1,\"\"\n",
    "prob += choices[\"1\"][\"8\"][\"4\"] == 1,\"\"\n",
    "prob += choices[\"2\"][\"8\"][\"5\"] == 1,\"\"\n",
    "prob += choices[\"4\"][\"8\"][\"6\"] == 1,\"\"\n",
    "prob += choices[\"9\"][\"8\"][\"7\"] == 1,\"\"\n",
    "\n",
    "prob += choices[\"4\"][\"9\"][\"2\"] == 1,\"\"\n",
    "prob += choices[\"8\"][\"9\"][\"4\"] == 1,\"\"\n",
    "prob += choices[\"3\"][\"9\"][\"6\"] == 1,\"\"\n",
    "prob += choices[\"2\"][\"9\"][\"8\"] == 1,\"\""
   ]
  },
  {
   "cell_type": "markdown",
   "metadata": {},
   "source": [
    "Solving the problem"
   ]
  },
  {
   "cell_type": "code",
   "execution_count": 10,
   "metadata": {
    "collapsed": false
   },
   "outputs": [
    {
     "data": {
      "text/plain": [
       "1"
      ]
     },
     "execution_count": 10,
     "metadata": {},
     "output_type": "execute_result"
    }
   ],
   "source": [
    "prob.solve()"
   ]
  },
  {
   "cell_type": "markdown",
   "metadata": {},
   "source": [
    "Construct the grid of the sudoku with the solution"
   ]
  },
  {
   "cell_type": "code",
   "execution_count": 11,
   "metadata": {
    "collapsed": false,
    "scrolled": true
   },
   "outputs": [
    {
     "name": "stdout",
     "output_type": "stream",
     "text": [
      "+-------+-------+-------+\n",
      "| 7 8 6 | 9 3 1 | 4 5 2 |\n",
      "| 4 5 2 | 6 8 7 | 3 1 9 |\n",
      "| 9 1 3 | 5 4 2 | 6 7 8 |\n",
      "+-------+-------+-------+\n",
      "| 3 9 4 | 2 1 8 | 7 6 5 |\n",
      "| 6 2 8 | 4 7 5 | 1 9 3 |\n",
      "| 5 7 1 | 3 6 9 | 2 8 4 |\n",
      "+-------+-------+-------+\n",
      "| 2 3 9 | 7 5 6 | 8 4 1 |\n",
      "| 8 6 5 | 1 2 4 | 9 3 7 |\n",
      "| 1 4 7 | 8 9 3 | 5 2 6 |\n",
      "+-------+-------+-------+\n"
     ]
    }
   ],
   "source": [
    "sudoku = \"\"\n",
    "\n",
    "box_border_raw = ''.join(['-' for i in range(2*square_number+1)])\n",
    "border_raw = ''.join([ \"+\"+box_border_raw \\\n",
    "                      for i in range(square_number)])+'+'\n",
    "\n",
    "box_border_line  = range(0,len(Sequence),square_number)\n",
    "border_line = [Sequence[i] for i in box_border_line]\n",
    "\n",
    "for r in Rows:\n",
    "    if r in border_line:\n",
    "        sudoku+=border_raw+\"\\n\"\n",
    "    for c in Cols:\n",
    "        for v in Vals:\n",
    "            if pulp.value(choices[v][r][c])==1:\n",
    "                               \n",
    "                if c in border_line:\n",
    "                    sudoku+=\"| \"\n",
    "                    \n",
    "                sudoku += v + \" \"\n",
    "                \n",
    "                if c == Sequence[-1]:\n",
    "                    sudoku += \"|\\n\"\n",
    "sudoku += border_raw\n",
    "\n",
    "print sudoku"
   ]
  },
  {
   "cell_type": "markdown",
   "metadata": {},
   "source": [
    "# Let's create a function to try it out on the exemples.\n",
    "Let's get the exemples"
   ]
  },
  {
   "cell_type": "code",
   "execution_count": 12,
   "metadata": {
    "collapsed": true
   },
   "outputs": [],
   "source": [
    "sudoku1 = [[\"8\",\"1\",\"2\"],\n",
    "[\"9\",\"1\",\"4\"],\n",
    "[\"1\",\"1\",\"6\"],\n",
    "[\"5\",\"1\",\"8\"],\n",
    "[\"2\",\"2\",\"3\"],\n",
    "[\"6\",\"2\",\"4\"],\n",
    "[\"8\",\"2\",\"5\"],\n",
    "[\"7\",\"2\",\"6\"],\n",
    "[\"3\",\"2\",\"7\"],\n",
    "[\"3\",\"3\",\"3\"],\n",
    "[\"6\",\"3\",\"7\"],\n",
    "[\"3\",\"4\",\"1\"],\n",
    "[\"9\",\"4\",\"2\"],\n",
    "[\"6\",\"4\",\"8\"],\n",
    "[\"5\",\"4\",\"9\"],\n",
    "[\"6\",\"5\",\"1\"],\n",
    "[\"4\",\"5\",\"4\"],\n",
    "[\"7\",\"5\",\"5\"],\n",
    "[\"5\",\"5\",\"6\"],\n",
    "[\"3\",\"5\",\"9\"],\n",
    "[\"5\",\"6\",\"1\"],\n",
    "[\"7\",\"6\",\"2\"],\n",
    "[\"8\",\"6\",\"8\"],\n",
    "[\"4\",\"6\",\"9\"],\n",
    "[\"9\",\"7\",\"3\"],\n",
    "[\"8\",\"7\",\"7\"],\n",
    "[\"5\",\"8\",\"3\"],\n",
    "[\"1\",\"8\",\"4\"],\n",
    "[\"2\",\"8\",\"5\"],\n",
    "[\"4\",\"8\",\"6\"],\n",
    "[\"9\",\"8\",\"7\"],\n",
    "[\"4\",\"9\",\"2\"],\n",
    "[\"8\",\"9\",\"4\"],\n",
    "[\"3\",\"9\",\"6\"],\n",
    "[\"2\",\"9\",\"8\"]]\n",
    "\n",
    "sudoku3 = [[\"8\",\"0\",\"0\"], \n",
    "[\"F\",\"0\",\"1\"], \n",
    "[\"C\",\"0\",\"3\"], \n",
    "[\"A\",\"0\",\"9\"], \n",
    "[\"6\",\"0\",\"F\"], \n",
    "[\"A\",\"1\",\"3\"], \n",
    "[\"F\",\"1\",\"7\"], \n",
    "[\"B\",\"1\",\"B\"], \n",
    "[\"7\",\"1\",\"C\"], \n",
    "[\"4\",\"1\",\"D\"], \n",
    "[\"D\",\"1\",\"E\"], \n",
    "[\"B\",\"2\",\"0\"], \n",
    "[\"4\",\"2\",\"2\"], \n",
    "[\"D\",\"2\",\"6\"], \n",
    "[\"6\",\"2\",\"7\"], \n",
    "[\"7\",\"2\",\"9\"], \n",
    "[\"0\",\"2\",\"C\"], \n",
    "[\"5\",\"2\",\"E\"], \n",
    "[\"1\",\"3\",\"0\"], \n",
    "[\"0\",\"3\",\"7\"], \n",
    "[\"3\",\"3\",\"8\"], \n",
    "[\"9\",\"3\",\"A\"], \n",
    "[\"2\",\"3\",\"B\"], \n",
    "[\"1\",\"4\",\"5\"], \n",
    "[\"F\",\"4\",\"6\"], \n",
    "[\"D\",\"4\",\"7\"], \n",
    "[\"3\",\"4\",\"9\"], \n",
    "[\"0\",\"4\",\"A\"], \n",
    "[\"E\",\"4\",\"D\"], \n",
    "[\"7\",\"4\",\"E\"], \n",
    "[\"4\",\"4\",\"F\"], \n",
    "[\"1\",\"5\",\"1\"], \n",
    "[\"6\",\"5\",\"3\"], \n",
    "[\"C\",\"5\",\"7\"], \n",
    "[\"B\",\"5\",\"9\"], \n",
    "[\"A\",\"5\",\"C\"], \n",
    "[\"3\",\"5\",\"E\"], \n",
    "[\"C\",\"6\",\"1\"], \n",
    "[\"D\",\"6\",\"3\"], \n",
    "[\"6\",\"6\",\"6\"], \n",
    "[\"3\",\"6\",\"7\"], \n",
    "[\"5\",\"6\",\"9\"], \n",
    "[\"9\",\"6\",\"C\"], \n",
    "[\"2\",\"6\",\"D\"], \n",
    "[\"9\",\"7\",\"0\"], \n",
    "[\"3\",\"7\",\"2\"], \n",
    "[\"4\",\"7\",\"3\"], \n",
    "[\"E\",\"7\",\"4\"], \n",
    "[\"2\",\"7\",\"6\"], \n",
    "[\"7\",\"7\",\"A\"], \n",
    "[\"D\",\"7\",\"B\"], \n",
    "[\"5\",\"8\",\"4\"], \n",
    "[\"7\",\"8\",\"5\"], \n",
    "[\"8\",\"8\",\"9\"], \n",
    "[\"C\",\"8\",\"B\"], \n",
    "[\"3\",\"8\",\"C\"], \n",
    "[\"0\",\"8\",\"D\"], \n",
    "[\"A\",\"8\",\"F\"], \n",
    "[\"E\",\"9\",\"2\"], \n",
    "[\"2\",\"9\",\"3\"], \n",
    "[\"4\",\"9\",\"6\"], \n",
    "[\"7\",\"9\",\"8\"], \n",
    "[\"1\",\"9\",\"9\"], \n",
    "[\"F\",\"9\",\"C\"], \n",
    "[\"6\",\"9\",\"E\"], \n",
    "[\"5\",\"A\",\"1\"], \n",
    "[\"3\",\"A\",\"3\"], \n",
    "[\"8\",\"A\",\"6\"], \n",
    "[\"9\",\"A\",\"8\"], \n",
    "[\"E\",\"A\",\"C\"], \n",
    "[\"C\",\"A\",\"E\"], \n",
    "[\"7\",\"B\",\"0\"], \n",
    "[\"0\",\"B\",\"1\"], \n",
    "[\"6\",\"B\",\"2\"], \n",
    "[\"C\",\"B\",\"5\"], \n",
    "[\"9\",\"B\",\"6\"], \n",
    "[\"D\",\"B\",\"8\"], \n",
    "[\"E\",\"B\",\"9\"], \n",
    "[\"3\",\"B\",\"A\"], \n",
    "[\"D\",\"C\",\"4\"], \n",
    "[\"E\",\"C\",\"5\"], \n",
    "[\"4\",\"C\",\"7\"], \n",
    "[\"0\",\"C\",\"8\"], \n",
    "[\"2\",\"C\",\"F\"], \n",
    "[\"7\",\"D\",\"1\"], \n",
    "[\"8\",\"D\",\"3\"], \n",
    "[\"C\",\"D\",\"6\"], \n",
    "[\"4\",\"D\",\"8\"], \n",
    "[\"2\",\"D\",\"9\"], \n",
    "[\"B\",\"D\",\"D\"], \n",
    "[\"5\",\"D\",\"F\"], \n",
    "[\"2\",\"E\",\"1\"], \n",
    "[\"9\",\"E\",\"2\"], \n",
    "[\"E\",\"E\",\"3\"], \n",
    "[\"B\",\"E\",\"4\"], \n",
    "[\"5\",\"E\",\"8\"], \n",
    "[\"4\",\"E\",\"C\"], \n",
    "[\"6\",\"F\",\"0\"], \n",
    "[\"7\",\"F\",\"6\"], \n",
    "[\"1\",\"F\",\"C\"], \n",
    "[\"8\",\"F\",\"E\"], \n",
    "[\"3\",\"F\",\"F\"] ]\n",
    "\n",
    "sudoku2 = [[\"7\",\"1\",\"1\"],\n",
    "[\"4\",\"1\",\"7\"],\n",
    "[\"2\",\"2\",\"2\"],\n",
    "[\"7\",\"2\",\"5\"],\n",
    "[\"8\",\"2\",\"8\"],\n",
    "[\"3\",\"3\",\"3\"],\n",
    "[\"8\",\"3\",\"6\"],\n",
    "[\"9\",\"3\",\"9\"],\n",
    "[\"5\",\"4\",\"4\"],\n",
    "[\"3\",\"4\",\"7\"],\n",
    "[\"6\",\"5\",\"2\"],\n",
    "[\"2\",\"5\",\"5\"],\n",
    "[\"9\",\"5\",\"8\"],\n",
    "[\"1\",\"6\",\"3\"],\n",
    "[\"7\",\"6\",\"6\"],\n",
    "[\"6\",\"6\",\"9\"],\n",
    "[\"3\",\"7\",\"4\"],\n",
    "[\"9\",\"7\",\"7\"],\n",
    "[\"3\",\"8\",\"2\"],\n",
    "[\"4\",\"8\",\"5\"],\n",
    "[\"6\",\"8\",\"8\"],\n",
    "[\"9\",\"9\",\"3\"],\n",
    "[\"1\",\"9\",\"6\"],\n",
    "[\"5\",\"9\",\"9\"]]\n",
    "\n",
    "sudoku0 = [[\"2\",\"1\",\"2\"],\n",
    "[\"4\",\"1\",\"3\"],\n",
    "[\"2\",\"2\",\"4\"],\n",
    "[\"3\",\"3\",\"1\"],\n",
    "[\"1\",\"4\",\"2\"],\n",
    "[\"3\",\"4\",\"3\"]]"
   ]
  },
  {
   "cell_type": "markdown",
   "metadata": {},
   "source": [
    "Let's get the sequences for each basis"
   ]
  },
  {
   "cell_type": "code",
   "execution_count": 13,
   "metadata": {
    "collapsed": false
   },
   "outputs": [],
   "source": [
    "Sequence9 = map(str,range(1,10))\n",
    "Sequence16 = [\"0\",\"1\", \"2\", \"3\", \"4\", \"5\", \"6\", \"7\", \"8\", \"9\"\\\n",
    "               ,\"A\",\"B\",\"C\",\"D\",\"E\",\"F\"]\n",
    "Sequence4 = map(str,range(1,5)) \n"
   ]
  },
  {
   "cell_type": "markdown",
   "metadata": {},
   "source": [
    "Let's  get the function"
   ]
  },
  {
   "cell_type": "code",
   "execution_count": 14,
   "metadata": {
    "collapsed": false
   },
   "outputs": [],
   "source": [
    "def solvingSudoku(sudoku_list,Sequence):\n",
    "\n",
    "    # coding: utf-8\n",
    "\n",
    "    # We modelise this problem as a binary one.\n",
    "\n",
    "    # Import the pulp librairie to solve linear problem.\n",
    "\n",
    "\n",
    "\n",
    "    Vals = Sequence\n",
    "    Rows = Sequence\n",
    "    Cols = Sequence\n",
    "\n",
    "\n",
    "    # Create the grid of the sudoku\n",
    "\n",
    "    # In[3]:\n",
    "\n",
    "    square_number = int(math.sqrt(len(Sequence)))\n",
    "    Boxes =[]\n",
    "    for i in range(square_number):\n",
    "        for j in range(square_number):\n",
    "            Boxes += [[(Rows[square_number*i+k]                    \\\n",
    "                        ,Cols[square_number*j+l])                    \\\n",
    "                       for k in range(square_number)                    \\\n",
    "                       for l in range(square_number)]]\n",
    "\n",
    "\n",
    "    # As we need equality, we can either maximize or minimize the objective function, we chose arbitrary minimize it.\n",
    "\n",
    "    # In[4]:\n",
    "\n",
    "    prob = pulp.LpProblem(\"Sudoku Problem\", pulp.LpMinimize)\n",
    "\n",
    "\n",
    "    # Create val\\*row*cols binary variable for the problem\n",
    "\n",
    "    # In[5]:\n",
    "\n",
    "    choices = pulp.LpVariable.dicts(\"Choice\",(Vals,Rows,Cols), \\\n",
    "                                    0,1,pulp.LpInteger)\n",
    "\n",
    "\n",
    "    # The cost function is not that important as what matter to us is the binary variables, so we initialise it at 0 arbitrarly.\n",
    "\n",
    "    # In[6]:\n",
    "\n",
    "    prob += 0\n",
    "\n",
    "\n",
    "    # We constraint that only one value can be enter in a square.\n",
    "\n",
    "    # In[7]:\n",
    "\n",
    "    for r in Rows:\n",
    "        for c in Cols:\n",
    "            prob += pulp.lpSum([choices[v][r][c] for v in Vals]) == 1, \"\"\n",
    "\n",
    "\n",
    "    # We constraint that on line, row, on boxe has only one of the sequence.\n",
    "\n",
    "    # In[8]:\n",
    "\n",
    "    for v in Vals:\n",
    "        for r in Rows:\n",
    "            prob += pulp.lpSum([choices[v][r][c] for c in Cols]) == 1,\"\"\n",
    "\n",
    "        for c in Cols:\n",
    "            prob += pulp.lpSum([choices[v][r][c] for r in Rows]) == 1,\"\"\n",
    "\n",
    "        for b in Boxes:\n",
    "            prob += pulp.lpSum([choices[v][r][c] for (r,c) in b]) == 1,\"\"\n",
    "\n",
    "\n",
    "    # We enter the inital number.\n",
    "    # choice[n][r][c], n : number ; r : row number ; c : column number\n",
    "\n",
    "    # In[9]:\n",
    "    for i,j,k in sudoku_list:\n",
    "        prob+= choices[i][j][k]==1,\"\"\n",
    "    \n",
    "    # Solving the problem\n",
    "\n",
    "    # In[10]:\n",
    "\n",
    "    print prob.solve()\n",
    "\n",
    "\n",
    "    # Construct the grid of the sudoku with the solution\n",
    "\n",
    "    # In[11]:\n",
    "\n",
    "    sudokuout = \"\"\n",
    "\n",
    "    box_border_raw = ''.join(['-' for i in range(2*square_number+1)])\n",
    "    border_raw = ''.join([ \"+\"+box_border_raw                       for i in range(square_number)])+'+'\n",
    "\n",
    "    box_border_line  = range(0,len(Sequence),square_number)\n",
    "    border_line = [Sequence[i] for i in box_border_line]\n",
    "\n",
    "    for r in Rows:\n",
    "        if r in border_line:\n",
    "            sudokuout+=border_raw+\"\\n\"\n",
    "        for c in Cols:\n",
    "            for v in Vals:\n",
    "                if pulp.value(choices[v][r][c])==1:\n",
    "\n",
    "                    if c in border_line:\n",
    "                        sudokuout+=\"| \"\n",
    "\n",
    "                    sudokuout += v + \" \"\n",
    "\n",
    "                    if c == Sequence[-1]:\n",
    "                        sudokuout += \"|\\n\"\n",
    "    sudokuout += border_raw\n",
    "\n",
    "    print sudokuout"
   ]
  },
  {
   "cell_type": "markdown",
   "metadata": {},
   "source": [
    "Let's try the exemples"
   ]
  },
  {
   "cell_type": "code",
   "execution_count": 15,
   "metadata": {
    "collapsed": false
   },
   "outputs": [
    {
     "name": "stdout",
     "output_type": "stream",
     "text": [
      "1\n",
      "+-------+-------+-------+\n",
      "| 7 8 6 | 9 3 1 | 4 5 2 |\n",
      "| 4 5 2 | 6 8 7 | 3 1 9 |\n",
      "| 9 1 3 | 5 4 2 | 6 7 8 |\n",
      "+-------+-------+-------+\n",
      "| 3 9 4 | 2 1 8 | 7 6 5 |\n",
      "| 6 2 8 | 4 7 5 | 1 9 3 |\n",
      "| 5 7 1 | 3 6 9 | 2 8 4 |\n",
      "+-------+-------+-------+\n",
      "| 2 3 9 | 7 5 6 | 8 4 1 |\n",
      "| 8 6 5 | 1 2 4 | 9 3 7 |\n",
      "| 1 4 7 | 8 9 3 | 5 2 6 |\n",
      "+-------+-------+-------+\n"
     ]
    }
   ],
   "source": [
    "solvingSudoku(sudoku1,Sequence)"
   ]
  },
  {
   "cell_type": "code",
   "execution_count": 17,
   "metadata": {
    "collapsed": false
   },
   "outputs": [
    {
     "name": "stdout",
     "output_type": "stream",
     "text": [
      "1\n",
      "+-------+-------+-------+\n",
      "| 7 9 8 | 6 3 5 | 4 2 1 |\n",
      "| 1 2 6 | 9 7 4 | 5 8 3 |\n",
      "| 4 5 3 | 2 1 8 | 6 7 9 |\n",
      "+-------+-------+-------+\n",
      "| 9 7 2 | 5 8 6 | 3 1 4 |\n",
      "| 5 6 4 | 1 2 3 | 8 9 7 |\n",
      "| 3 8 1 | 4 9 7 | 2 5 6 |\n",
      "+-------+-------+-------+\n",
      "| 6 1 7 | 3 5 2 | 9 4 8 |\n",
      "| 8 3 5 | 7 4 9 | 1 6 2 |\n",
      "| 2 4 9 | 8 6 1 | 7 3 5 |\n",
      "+-------+-------+-------+\n"
     ]
    }
   ],
   "source": [
    "solvingSudoku(sudoku2,Sequence9)"
   ]
  },
  {
   "cell_type": "code",
   "execution_count": 18,
   "metadata": {
    "collapsed": false
   },
   "outputs": [
    {
     "name": "stdout",
     "output_type": "stream",
     "text": [
      "1\n",
      "+-----+-----+\n",
      "| 1 2 | 4 3 |\n",
      "| 4 3 | 1 2 |\n",
      "+-----+-----+\n",
      "| 3 4 | 2 1 |\n",
      "| 2 1 | 3 4 |\n",
      "+-----+-----+\n"
     ]
    }
   ],
   "source": [
    "solvingSudoku(sudoku0,Sequence4)"
   ]
  },
  {
   "cell_type": "code",
   "execution_count": 19,
   "metadata": {
    "collapsed": false
   },
   "outputs": [
    {
     "name": "stdout",
     "output_type": "stream",
     "text": [
      "1\n",
      "+---------+---------+---------+---------+\n",
      "| 8 F 0 C | 1 B 5 7 | E A D 4 | 2 3 9 6 |\n",
      "| 3 6 2 A | 8 9 E F | 1 0 5 B | 7 4 D C |\n",
      "| B E 4 9 | 2 3 D 6 | F 7 C 8 | 0 A 5 1 |\n",
      "| 1 D 5 7 | C 4 A 0 | 3 6 9 2 | B 8 F E |\n",
      "+---------+---------+---------+---------+\n",
      "| 2 B 8 5 | 9 1 F D | A 3 0 6 | C E 7 4 |\n",
      "| E 1 F 6 | 7 8 0 C | 2 B 4 9 | A 5 3 D |\n",
      "| 0 C 7 D | 4 A 6 3 | 8 5 1 E | 9 2 B F |\n",
      "| 9 A 3 4 | E 5 2 B | C F 7 D | 8 6 1 0 |\n",
      "+---------+---------+---------+---------+\n",
      "| 4 9 D 1 | 5 7 B E | 6 8 F C | 3 0 2 A |\n",
      "| C 8 E 2 | 3 0 4 A | 7 1 B 5 | F D 6 9 |\n",
      "| F 5 A 3 | 6 D 8 1 | 9 4 2 0 | E 7 C B |\n",
      "| 7 0 6 B | F C 9 2 | D E 3 A | 5 1 4 8 |\n",
      "+---------+---------+---------+---------+\n",
      "| 5 3 B F | D E 1 4 | 0 9 8 7 | 6 C A 2 |\n",
      "| A 7 1 8 | 0 F C 9 | 4 2 6 3 | D B E 5 |\n",
      "| D 2 9 E | B 6 3 8 | 5 C A 1 | 4 F 0 7 |\n",
      "| 6 4 C 0 | A 2 7 5 | B D E F | 1 9 8 3 |\n",
      "+---------+---------+---------+---------+\n"
     ]
    }
   ],
   "source": [
    "solvingSudoku(sudoku3,Sequence16)"
   ]
  }
 ],
 "metadata": {
  "kernelspec": {
   "display_name": "Python 2",
   "language": "python",
   "name": "python2"
  },
  "language_info": {
   "codemirror_mode": {
    "name": "ipython",
    "version": 2
   },
   "file_extension": ".py",
   "mimetype": "text/x-python",
   "name": "python",
   "nbconvert_exporter": "python",
   "pygments_lexer": "ipython2",
   "version": "2.7.10"
  }
 },
 "nbformat": 4,
 "nbformat_minor": 0
}
